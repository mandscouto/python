{
 "cells": [
  {
   "cell_type": "code",
   "execution_count": 6,
   "metadata": {},
   "outputs": [],
   "source": [
    "class Pessoa:\n",
    "\n",
    "    #Método construtor da classe:\n",
    "    def __init__(self, Nome, Idade):\n",
    "        self.Nome = Nome\n",
    "        self.Idade = Idade\n",
    "\n",
    "    def boasVindas(self):\n",
    "        print('Olá, seja bem-vindo, ', self.Nome)\n",
    "\n",
    "    def recusado(self):\n",
    "        print('Seu acesso foi recusado.')\n",
    "\n",
    "    #Função para aplicar a regra de negócio \n",
    "    def maiorIdade(self):\n",
    "        if self.Idade >= 18:\n",
    "            print('Usuário é maior de idade')\n",
    "            self.boasVindas()\n",
    "        else:\n",
    "            print('Usuário é menor de idade')\n",
    "            self.recusado()"
   ]
  },
  {
   "cell_type": "code",
   "execution_count": 7,
   "metadata": {},
   "outputs": [],
   "source": [
    "Dados = Pessoa('Amanda', 24)"
   ]
  },
  {
   "cell_type": "code",
   "execution_count": 8,
   "metadata": {},
   "outputs": [
    {
     "name": "stdout",
     "output_type": "stream",
     "text": [
      "Usuário é maior de idade\n",
      "Olá, seja bem-vindo,  Amanda\n"
     ]
    }
   ],
   "source": [
    "Dados.maiorIdade()"
   ]
  }
 ],
 "metadata": {
  "kernelspec": {
   "display_name": "Python 3",
   "language": "python",
   "name": "python3"
  },
  "language_info": {
   "codemirror_mode": {
    "name": "ipython",
    "version": 3
   },
   "file_extension": ".py",
   "mimetype": "text/x-python",
   "name": "python",
   "nbconvert_exporter": "python",
   "pygments_lexer": "ipython3",
   "version": "3.11.0"
  }
 },
 "nbformat": 4,
 "nbformat_minor": 2
}
